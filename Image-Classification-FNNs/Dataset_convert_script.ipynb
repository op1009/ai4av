{
 "cells": [
  {
   "cell_type": "markdown",
   "id": "1c9e1241-f86a-4dd3-bd37-1a1ef55ed687",
   "metadata": {},
   "source": [
    "# GTSRB Dataset Conversion Script"
   ]
  },
  {
   "cell_type": "markdown",
   "id": "0e601932-51d5-44c4-ab12-0d8f1ee4cf95",
   "metadata": {},
   "source": [
    "- Dataset: [GTSRB Dataset](https://benchmark.ini.rub.de/gtsrb_dataset.html)\n",
    "- Original Dataset contains images in `.ppm` format, but __Keras__ supports image in `.jpeg`, `.jpg`, `.png`, `.bmp`, `.gif` formats.\n",
    "- So we can convert every image to `.png` format and change the filenames of images in `.csv` files."
   ]
  },
  {
   "cell_type": "markdown",
   "id": "fccf2971-69c4-425f-ba74-5e794dfa87aa",
   "metadata": {},
   "source": [
    "## Train\n",
    "---"
   ]
  },
  {
   "cell_type": "markdown",
   "id": "869eab7a-124c-43ca-81d0-c8627dfa4ff9",
   "metadata": {},
   "source": [
    "#### Download `GTSRB_Final_Training_Images` Dataset and Unzip"
   ]
  },
  {
   "cell_type": "code",
   "execution_count": 1,
   "id": "602a9bb0-7a4e-4118-8808-974e6f1596a2",
   "metadata": {},
   "outputs": [
    {
     "name": "stdout",
     "output_type": "stream",
     "text": [
      "--2024-03-13 14:18:20--  https://sid.erda.dk/public/archives/daaeac0d7ce1152aea9b61d9f1e19370/GTSRB_Final_Training_Images.zip\n",
      "Resolving sid.erda.dk (sid.erda.dk)... 130.225.104.13\n",
      "Connecting to sid.erda.dk (sid.erda.dk)|130.225.104.13|:443... connected.\n",
      "HTTP request sent, awaiting response... 200 OK\n",
      "Length: 276294756 (263M) [application/zip]\n",
      "Saving to: ‘GTSRB_Final_Training_Images.zip’\n",
      "\n",
      "GTSRB_Final_Trainin 100%[===================>] 263.50M   553KB/s    in 6m 26s  \n",
      "\n",
      "2024-03-13 14:24:48 (699 KB/s) - ‘GTSRB_Final_Training_Images.zip’ saved [276294756/276294756]\n",
      "\n"
     ]
    }
   ],
   "source": [
    "!wget https://sid.erda.dk/public/archives/daaeac0d7ce1152aea9b61d9f1e19370/GTSRB_Final_Training_Images.zip\n",
    "!unzip -q GTSRB_Final_Training_Images.zip -d data/"
   ]
  },
  {
   "cell_type": "markdown",
   "id": "e8d9e4c9-b5e4-48b8-890c-51661b499805",
   "metadata": {},
   "source": [
    "#### Change images to `png`"
   ]
  },
  {
   "cell_type": "code",
   "execution_count": 2,
   "id": "a4296aa3-9021-4bcd-ab01-d31d27ab1f94",
   "metadata": {},
   "outputs": [
    {
     "name": "stderr",
     "output_type": "stream",
     "text": [
      "100%|████████████████████████████████████| 39209/39209 [01:12<00:00, 541.87it/s]\n"
     ]
    }
   ],
   "source": [
    "from PIL import Image\n",
    "import glob\n",
    "import os\n",
    "from tqdm import tqdm\n",
    "\n",
    "for img in tqdm(glob.glob(\"data/GTSRB/Final_Training/Images/*/*.ppm\")):\n",
    "    im = Image.open(img)\n",
    "    fname = img.strip(\".ppm\") + \".png\"\n",
    "    im.save(fname)"
   ]
  },
  {
   "cell_type": "markdown",
   "id": "5dd7d675-9dfe-4cd2-94e3-78edb0bd91cb",
   "metadata": {},
   "source": [
    "#### Remove .ppm files"
   ]
  },
  {
   "cell_type": "code",
   "execution_count": 3,
   "id": "e128f34b-c68d-46da-8e2b-9cd1d169f912",
   "metadata": {},
   "outputs": [
    {
     "name": "stderr",
     "output_type": "stream",
     "text": [
      "100%|██████████████████████████████████| 39209/39209 [00:01<00:00, 24306.59it/s]\n"
     ]
    }
   ],
   "source": [
    "for img in tqdm(glob.glob(\"data/GTSRB/Final_Training/Images/*/*.ppm\")):\n",
    "    os.remove(img)"
   ]
  },
  {
   "cell_type": "markdown",
   "id": "b8c73b3f-b5db-4a55-84c6-55142969696b",
   "metadata": {},
   "source": [
    "#### Rename filenames in csv file\n",
    "\n",
    "Using Stream EDitor (sed)\n",
    "- https://www.cyberciti.biz/faq/how-to-use-sed-to-find-and-replace-text-in-files-in-linux-unix-shell/"
   ]
  },
  {
   "cell_type": "code",
   "execution_count": 6,
   "id": "3409cf69-6db6-45b6-b4f3-3f9a21ba359e",
   "metadata": {},
   "outputs": [
    {
     "name": "stdout",
     "output_type": "stream",
     "text": [
      "Done\n"
     ]
    }
   ],
   "source": [
    "!sed -i 's/\\.ppm/.png/g' data/GTSRB/Final_Training/Images/*/*.csv | echo Done"
   ]
  },
  {
   "cell_type": "markdown",
   "id": "c8b6d146-9ac2-47af-ad74-f01ea174e519",
   "metadata": {},
   "source": [
    "## Test\n",
    "---"
   ]
  },
  {
   "cell_type": "markdown",
   "id": "7f292b51-35d1-4826-b9d9-45ba1b95a327",
   "metadata": {},
   "source": [
    "#### Download `GTSRB_Final_Test_Images` Dataset and Unzip"
   ]
  },
  {
   "cell_type": "code",
   "execution_count": 7,
   "id": "449c50d4-c5a3-4737-9a59-a483b21c6d6b",
   "metadata": {},
   "outputs": [
    {
     "name": "stdout",
     "output_type": "stream",
     "text": [
      "--2024-03-13 14:32:55--  https://sid.erda.dk/public/archives/daaeac0d7ce1152aea9b61d9f1e19370/GTSRB_Final_Test_Images.zip\n",
      "Resolving sid.erda.dk (sid.erda.dk)... 130.225.104.13\n",
      "Connecting to sid.erda.dk (sid.erda.dk)|130.225.104.13|:443... connected.\n",
      "HTTP request sent, awaiting response... 200 OK\n",
      "Length: 88978620 (85M) [application/zip]\n",
      "Saving to: ‘GTSRB_Final_Test_Images.zip’\n",
      "\n",
      "GTSRB_Final_Test_Im 100%[===================>]  84.86M   888KB/s    in 1m 51s  \n",
      "\n",
      "2024-03-13 14:34:48 (780 KB/s) - ‘GTSRB_Final_Test_Images.zip’ saved [88978620/88978620]\n",
      "\n"
     ]
    }
   ],
   "source": [
    "!wget https://sid.erda.dk/public/archives/daaeac0d7ce1152aea9b61d9f1e19370/GTSRB_Final_Test_Images.zip\n",
    "!unzip -q GTSRB_Final_Test_Images.zip -d data/"
   ]
  },
  {
   "cell_type": "markdown",
   "id": "7bfb4124-87e8-4d1d-897a-08a59a26438a",
   "metadata": {},
   "source": [
    "#### Change images to `png`"
   ]
  },
  {
   "cell_type": "code",
   "execution_count": 9,
   "id": "80a864fc-d633-4db1-aae4-8bde9472a4df",
   "metadata": {},
   "outputs": [
    {
     "name": "stderr",
     "output_type": "stream",
     "text": [
      "100%|████████████████████████████████████| 12630/12630 [00:23<00:00, 542.71it/s]\n"
     ]
    }
   ],
   "source": [
    "from PIL import Image\n",
    "import glob\n",
    "import os\n",
    "from tqdm import tqdm\n",
    "\n",
    "for img in tqdm(glob.glob(\"data/GTSRB/Final_Test/Images/*.ppm\")):\n",
    "    im = Image.open(img)\n",
    "    fname = img.strip(\".ppm\") + \".png\"\n",
    "    im.save(fname)"
   ]
  },
  {
   "cell_type": "markdown",
   "id": "6173e4af-be3a-49fc-9c3e-fea57f820863",
   "metadata": {},
   "source": [
    "#### Remove .ppm files"
   ]
  },
  {
   "cell_type": "code",
   "execution_count": 13,
   "id": "ce00a201-8eff-4575-b338-d617b868cadc",
   "metadata": {},
   "outputs": [
    {
     "name": "stderr",
     "output_type": "stream",
     "text": [
      "100%|██████████████████████████████████| 12630/12630 [00:00<00:00, 17935.33it/s]\n"
     ]
    }
   ],
   "source": [
    "for img in tqdm(glob.glob(\"data/GTSRB/Final_Test/Images/*.ppm\")):\n",
    "    os.remove(img)"
   ]
  },
  {
   "cell_type": "markdown",
   "id": "a9a608f4-a77d-4c9a-b9a0-001d73912e19",
   "metadata": {},
   "source": [
    "#### Rename filenames in csv file\n",
    "\n",
    "Using Stream EDitor (sed)\n",
    "- https://www.cyberciti.biz/faq/how-to-use-sed-to-find-and-replace-text-in-files-in-linux-unix-shell/"
   ]
  },
  {
   "cell_type": "code",
   "execution_count": 14,
   "id": "cbf4ac03-74d8-43c0-9377-fa1883d7f03f",
   "metadata": {},
   "outputs": [
    {
     "name": "stdout",
     "output_type": "stream",
     "text": [
      "Done\n"
     ]
    }
   ],
   "source": [
    "!sed -i 's/\\.ppm/.png/g' data/GTSRB/Final_Test/Images/*.csv | echo Done"
   ]
  },
  {
   "cell_type": "markdown",
   "id": "dbcb7890-9225-4619-a11f-b671486eb53e",
   "metadata": {},
   "source": [
    "## Test Ground Truth\n",
    "---\n",
    "only required if we need to test predictions with their ground truth"
   ]
  },
  {
   "cell_type": "markdown",
   "id": "13c1eae4-ad8b-4d23-b392-648d091c69a7",
   "metadata": {},
   "source": [
    "#### Download `GTSRB_Final_Test_GT` Dataset and Unzip"
   ]
  },
  {
   "cell_type": "code",
   "execution_count": null,
   "id": "9dfda5b2-efa3-4db6-8ee4-9a28c922eb27",
   "metadata": {},
   "outputs": [],
   "source": [
    "!wget https://sid.erda.dk/public/archives/daaeac0d7ce1152aea9b61d9f1e19370/GTSRB_Final_Test_GT.zip\n",
    "!unzip -q GTSRB_Final_Test_GT.zip -d data/GTSRB/Final_Test/"
   ]
  }
 ],
 "metadata": {
  "kernelspec": {
   "display_name": "Python 3 (ipykernel)",
   "language": "python",
   "name": "python3"
  },
  "language_info": {
   "codemirror_mode": {
    "name": "ipython",
    "version": 3
   },
   "file_extension": ".py",
   "mimetype": "text/x-python",
   "name": "python",
   "nbconvert_exporter": "python",
   "pygments_lexer": "ipython3",
   "version": "3.10.12"
  }
 },
 "nbformat": 4,
 "nbformat_minor": 5
}
